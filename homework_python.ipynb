{
 "cells": [
  {
   "cell_type": "markdown",
   "id": "95cd90bd",
   "metadata": {},
   "source": [
    "# 第一章"
   ]
  },
  {
   "cell_type": "markdown",
   "id": "acf130df",
   "metadata": {},
   "source": [
    "## 1. 判断下列变量命名方式的正确与否"
   ]
  },
  {
   "cell_type": "code",
   "execution_count": null,
   "id": "3e025ab6",
   "metadata": {},
   "outputs": [],
   "source": [
    "1stock = '股票的价格' \n",
    "#错误，不能以数字开头作为变量名\n",
    "a_ = 535  \n",
    "#正确的\n",
    "_ = 12.5  \n",
    "#正确的\n",
    "_$ = 453.4   \n",
    "#错误，不可以使用‘$’作为变量名的一部分\n",
    "__ = '股票的价格'  \n",
    "#正确的\n",
    "123 = 600519  \n",
    "#错误，不可以对一个整数赋值\n",
    "a1b = 600519  \n",
    "#正确的"
   ]
  },
  {
   "cell_type": "markdown",
   "id": "0b01ee8d",
   "metadata": {},
   "source": [
    "## 2. 判断下列变量命名方式的正确与否\n",
    "\n",
    "选择5个股票的名称形成列表\n",
    "\n",
    "1、计算列表的长度并输出\n",
    "\n",
    "2、 列表中追加元素（追加一个股票），并输出添加后的列表\n",
    "\n",
    "3、请在列表的第1个位置插入元素（插入一个股票名称）,并输出添加后的列表\n",
    "\n",
    "4、请删除列表中的元素（删除最后一个股票名称）,并输出添加后的列表\n",
    "\n",
    "5、请删除列表中的第4个元素，并输出删除的元素和删除元素后的列表\n",
    "\n",
    "6、请删除列表中的第1至3个元素，并输出删除元素后的列表\n",
    "\n",
    "7、请将列表所有得元素反转，并输出反转后的列表"
   ]
  },
  {
   "cell_type": "code",
   "execution_count": null,
   "id": "ebb94a61",
   "metadata": {},
   "outputs": [],
   "source": [
    "import pandas as pd\n",
    "\n",
    "stk = pd.read_csv('https://raw.githubusercontent.com/Zoroastrian-nova/Python-Homework/main/STK_HK_InstitutionInfo.csv')\n",
    "#资料来源：CSMAR 港股股票基本信息表\n",
    "stk_name = list(stk.iloc[0:5,2])\n",
    "print(stk_name)\n",
    "print(len(stk_name))"
   ]
  },
  {
   "cell_type": "code",
   "execution_count": null,
   "id": "df2553e9",
   "metadata": {},
   "outputs": [],
   "source": [
    "insert = list(stk.iloc[5:6,2])\n",
    "stk_name.insert(0,insert[0])\n",
    "s1=stk_name\n",
    "print(stk_name)"
   ]
  },
  {
   "cell_type": "code",
   "execution_count": null,
   "id": "ceebf735",
   "metadata": {},
   "outputs": [],
   "source": [
    "dele = str(stk_name[-1])\n",
    "stk_name.remove(dele)\n",
    "print(stk_name)\n",
    "print(dele)"
   ]
  },
  {
   "cell_type": "code",
   "execution_count": null,
   "id": "e98931ce",
   "metadata": {},
   "outputs": [],
   "source": [
    "dele4 = str(stk_name[3])\n",
    "stk_name.remove(dele4)\n",
    "print(stk_name)\n",
    "print(dele4)"
   ]
  },
  {
   "cell_type": "code",
   "execution_count": null,
   "id": "a20be613",
   "metadata": {},
   "outputs": [],
   "source": [
    "for i in range(3):\n",
    "    stk_name.pop(0)\n",
    "\n",
    "print(stk_name)"
   ]
  },
  {
   "cell_type": "code",
   "execution_count": null,
   "id": "c648e459",
   "metadata": {},
   "outputs": [],
   "source": [
    "s1.reverse()\n",
    "print(s1)"
   ]
  },
  {
   "cell_type": "markdown",
   "id": "79299d77",
   "metadata": {},
   "source": [
    "## 3. 创建股票信息字典\n",
    "\n",
    "需包含 3支股票名称、代码、某一天的开盘价"
   ]
  },
  {
   "cell_type": "code",
   "execution_count": 50,
   "id": "f5998ab7",
   "metadata": {},
   "outputs": [
    {
     "name": "stdout",
     "output_type": "stream",
     "text": [
      "{1: ('平安银行股份有限公司', '2022/6/1', 14.14), 2: ('万科企业股份有限公司', '2022/6/1', 17.84), 4: ('深圳国华网安科技股份有限公司', '2022/6/1', 9.6)}\n"
     ]
    }
   ],
   "source": [
    "import pandas as pd\n",
    "trade = pd.read_csv('TRD_Dalyr.csv')\n",
    "name = pd.read_csv('TRD_Co.csv')\n",
    "#数据来源：CSMAR 股票市场\n",
    "data = pd.merge(trade,name,on='Stkcd',how='inner')\n",
    "\n",
    "id = list(data.loc[:2,'Stkcd'])\n",
    "nm = list(data.loc[:2,'Conme'])\n",
    "op = list(data.loc[:2,'Opnprc'])\n",
    "dt = list(data.loc[:2,'Trddt'])\n",
    "info = zip(nm,dt,op)\n",
    "\n",
    "dic= dict(zip(id,info))\n",
    "print(dic)"
   ]
  },
  {
   "cell_type": "markdown",
   "id": "527775d4",
   "metadata": {},
   "source": [
    "## 4. 定义一个函数来计算单利债券本利和"
   ]
  },
  {
   "cell_type": "code",
   "execution_count": null,
   "id": "3fa3e527",
   "metadata": {},
   "outputs": [],
   "source": [
    "def simple(i,n,pv):\n",
    "    return(pv*(1+i)*n)"
   ]
  },
  {
   "cell_type": "markdown",
   "id": "c42984a5",
   "metadata": {},
   "source": [
    "## 5. 定义一个股票类\n",
    "\n",
    "定义股票数据中，股票的开盘价、收盘价、股票名称、代码为类属性"
   ]
  },
  {
   "cell_type": "code",
   "execution_count": null,
   "id": "4081c15c",
   "metadata": {},
   "outputs": [],
   "source": [
    "class stock:\n",
    "    def __init__(self, name, op,cls):  \n",
    "        self.name = name            \n",
    "        self.op = op\n",
    "        self.cls = cls            \n",
    "      \n",
    " \n",
    "    def printInfo(self):\n",
    "        print( \"name : \", self.name, \"open:\", self.op, \"close:\", self.cls) "
   ]
  },
  {
   "cell_type": "markdown",
   "id": "87be8e66",
   "metadata": {},
   "source": [
    "# numpy"
   ]
  },
  {
   "cell_type": "markdown",
   "id": "45ebc6b4",
   "metadata": {},
   "source": [
    "1.创建一个长度为10的分布在[0,1)一维随机矩阵,然后让第5个元素等于1"
   ]
  },
  {
   "cell_type": "markdown",
   "id": "91257860",
   "metadata": {},
   "source": [
    " 2.创建一个元素为从20到80的长度为10的ndarray对象"
   ]
  },
  {
   "cell_type": "markdown",
   "id": "f529ab57",
   "metadata": {},
   "source": [
    "3.创建一个符合正太分布的长度为10的数组并反转这个数组"
   ]
  },
  {
   "cell_type": "markdown",
   "id": "ae32e112",
   "metadata": {},
   "source": [
    "4.随机创建一个4维矩阵，并得到最后两维的和。"
   ]
  },
  {
   "cell_type": "markdown",
   "id": "5e21b82f",
   "metadata": {},
   "source": [
    "5.创建一个999999长度的随机数组，使用两种方法对其求三次方，并比较所用时间"
   ]
  },
  {
   "cell_type": "markdown",
   "id": "5446c5c8",
   "metadata": {},
   "source": [
    "6.创建一个 5x5 的二维数组，并设置值 1, 2, 3, 4 落在其对角线下方"
   ]
  },
  {
   "cell_type": "code",
   "execution_count": null,
   "id": "5a3ce71e",
   "metadata": {},
   "outputs": [],
   "source": [
    "import numpy as np\n",
    "import random\n",
    "x=np.ndarray([1,10])\n",
    "for i in range(10):\n",
    "    x[i] = random.randint(0,1)\n",
    "\n",
    "x[5]=1\n",
    "print(x)"
   ]
  },
  {
   "cell_type": "code",
   "execution_count": null,
   "id": "cea394e6",
   "metadata": {},
   "outputs": [],
   "source": [
    "from numpy import *\n",
    "\n",
    "a=random.randint(20,80,(1,10))\n",
    "print(a)"
   ]
  },
  {
   "cell_type": "code",
   "execution_count": null,
   "id": "1c00631f",
   "metadata": {},
   "outputs": [],
   "source": [
    "from numpy import *\n",
    "\n",
    "\n",
    "a=random.randn(1,10)\n",
    "print(a)"
   ]
  },
  {
   "cell_type": "code",
   "execution_count": null,
   "id": "833ed3e4",
   "metadata": {},
   "outputs": [],
   "source": [
    "import numpy as np\n",
    "x = np.ndarray([4,4])\n",
    "summation = sum(x[:,2:])\n",
    "print(summation)"
   ]
  },
  {
   "cell_type": "code",
   "execution_count": null,
   "id": "ddcf9bea",
   "metadata": {},
   "outputs": [],
   "source": [
    "import numpy as np\n",
    "x = np.ndarray([999999,1])"
   ]
  },
  {
   "cell_type": "code",
   "execution_count": null,
   "id": "26322ae3",
   "metadata": {},
   "outputs": [],
   "source": [
    "x1 = x**3\n",
    "x1"
   ]
  },
  {
   "cell_type": "markdown",
   "id": "c24c7087",
   "metadata": {},
   "source": [
    "利用“**”方法取三次方，运行时间为0.5s\n"
   ]
  },
  {
   "cell_type": "code",
   "execution_count": null,
   "id": "b5e042b2",
   "metadata": {},
   "outputs": [],
   "source": [
    "x2 = np.matmul(x,np.matmul(x.T,x))\n",
    "x2"
   ]
  },
  {
   "cell_type": "markdown",
   "id": "54db3844",
   "metadata": {},
   "source": [
    "利用矩阵乘法得到x的三次方，耗时为0.2s"
   ]
  },
  {
   "cell_type": "markdown",
   "id": "1c269a51",
   "metadata": {},
   "source": [
    "# matplotlib\n",
    "\n"
   ]
  },
  {
   "cell_type": "markdown",
   "id": "760ecdce",
   "metadata": {},
   "source": [
    "1.安装baostock包，了解query_history_k_data函数的各项参数，并了解得到数据的各个字段含义.  "
   ]
  },
  {
   "cell_type": "markdown",
   "id": "b8ebfee3",
   "metadata": {},
   "source": [
    "2.画出茅台股票在2022年3月1日至2020年3月31日的开盘走势图"
   ]
  },
  {
   "cell_type": "markdown",
   "id": "51342809",
   "metadata": {},
   "source": [
    "3.画出茅台、比亚迪、工商银行、华泰证券在2021年12月1日至22年1月31日的每日涨跌幅波动图，4张图以2X2的方式排列"
   ]
  },
  {
   "cell_type": "code",
   "execution_count": null,
   "id": "73014d0d",
   "metadata": {},
   "outputs": [],
   "source": [
    "from baostock import query_history_k_data\n",
    "'''\n",
    "def query_history_k_data(code, fields, start_date=None, end_date=None,\n",
    "                         frequency='d', adjustflag='3'):\n",
    "    \"\"\"获取历史K线\"\"\"\n",
    "    return __query_history_k_data_page(1, cons.BAOSTOCK_PER_PAGE_COUNT, code, fields, start_date,\n",
    "                                       end_date, frequency, adjustflag)\n",
    "\n",
    "'''"
   ]
  },
  {
   "cell_type": "markdown",
   "id": "c30f409d",
   "metadata": {},
   "source": [
    "code 指定股票的证券代码，fields 指定股票领域，start_date 和 end_date表示起止日期，frequency指定k线类型（默认为日k）\n",
    "\n",
    "返回时通过调用return __query_history_k_data_page()，得到历史K线图"
   ]
  },
  {
   "cell_type": "code",
   "execution_count": 52,
   "id": "0034411b",
   "metadata": {},
   "outputs": [
    {
     "data": {
      "image/png": "[encoded data removed]",
      "text/plain": [
       "<Figure size 432x288 with 1 Axes>"
      ]
     },
     "metadata": {
      "needs_background": "light"
     },
     "output_type": "display_data"
    }
   ],
   "source": [
    "import pandas as pd\n",
    "Open = pd.read_csv('TRD_Dalyr (2).csv',header= 0,index_col=1)\n",
    "import matplotlib.pyplot as plt \n",
    "p0 = plt.plot(Open.index,Open['Opnprc'])\n",
    "plt.show()"
   ]
  },
  {
   "cell_type": "code",
   "execution_count": 53,
   "id": "26ee793f",
   "metadata": {},
   "outputs": [
    {
     "data": {
      "image/png": "[encoded data removed]",
      "text/plain": [
       "<Figure size 432x288 with 4 Axes>"
      ]
     },
     "metadata": {
      "needs_background": "light"
     },
     "output_type": "display_data"
    }
   ],
   "source": [
    "import pandas as pd\n",
    "import numpy as np\n",
    "Vola = pd.read_csv('TRD_Dalyr (4).csv',header = 0,index_col=1)\n",
    "st1 =np.zeros(1)\n",
    "st2 =np.zeros(1)\n",
    "st3 =np.zeros(1)\n",
    "st4 =np.zeros(1)\n",
    "change = np.asarray(Vola.iloc[:,1])\n",
    "t = np.asarray(Vola.index[0:42])\n",
    "for i in range(len((Vola.index))):\n",
    "    if Vola.iloc[i,0] == 2594:\n",
    "        st1 = np.append(st1,change[i]) \n",
    "\n",
    "    elif Vola.iloc[i,0]  == 601398:\n",
    "        st2 = np.append(st2,change[i]) \n",
    "\n",
    "    elif Vola.iloc[i,0] == 600519:\n",
    "        st3 = np.append(st3,change[i]) \n",
    "        \n",
    "    elif Vola.iloc[i,0] == 601688:\n",
    "        st4 = np.append(st4,change[i]) \n",
    "\n",
    "import matplotlib.pyplot as plt \n",
    "\n",
    "#plot 1:\n",
    "\n",
    "\n",
    "plt.subplot(2, 2, 1)\n",
    "plt.plot(t,st1[1:])\n",
    "plt.title(\"BYD\")\n",
    "\n",
    "#plot 2:\n",
    "\n",
    "\n",
    "plt.subplot(2, 2, 2)\n",
    "plt.plot(t,st2[1:])\n",
    "plt.title(\"ICBC\")\n",
    "\n",
    "#plot 3:\n",
    "\n",
    "\n",
    "plt.subplot(2, 2, 3)\n",
    "plt.plot(t,st3[1:])\n",
    "plt.title(\"Gui Zhou Mao Tai\")\n",
    "\n",
    "#plot 4:\n",
    "\n",
    "\n",
    "plt.subplot(2, 2, 4)\n",
    "plt.plot(t,st4[1:])\n",
    "plt.title(\"Hua Tai Securities\")\n",
    "\n",
    "plt.suptitle(\"Daily Change Rates\")\n",
    "plt.show()\n"
   ]
  },
  {
   "cell_type": "markdown",
   "id": "64f8869a",
   "metadata": {},
   "source": [
    "# Pandas"
   ]
  },
  {
   "cell_type": "markdown",
   "id": "ad7db1c8",
   "metadata": {},
   "source": [
    "#### 1. 用pandas读取 stockprices_0.csv 文件，将第一列作为索引。"
   ]
  },
  {
   "cell_type": "markdown",
   "id": "d77b9388",
   "metadata": {},
   "source": [
    "####  2. 请将股票代码为“600011”的2020年全年股价构造成一个Series，并计算全年股价均值。"
   ]
  },
  {
   "cell_type": "markdown",
   "id": "bb0353d8",
   "metadata": {},
   "source": [
    "####  3. 请提取代码为“600012”和“600020”的两列股票价格，对600012股价升序排列，同时，对600020的股价降序排列。"
   ]
  },
  {
   "cell_type": "markdown",
   "id": "9f318793",
   "metadata": {},
   "source": [
    "#### 4. 请在原数据集中，做以下几个操作：\n",
    "\n",
    "（1）查询2020-04-01这一天大家的股价；\n",
    "\n",
    "（2）截取整个5月份的股价列表；\n",
    "\n",
    "（3）截取2020年600011股价超过4.5元时，且600030股价低于25元时的数据集；\n",
    "\n",
    "（4）截取第50行-100行的数据集。\n",
    "\n",
    "你还可以尝试各种不同的切片，例如在某个月份中，股价低于某个价位时的数据，可以自行尝试。"
   ]
  },
  {
   "cell_type": "code",
   "execution_count": null,
   "id": "12d945b2",
   "metadata": {},
   "outputs": [],
   "source": [
    "import pandas as pd\n",
    "import numpy as np\n",
    "stkp = pd.read_csv('stockprices_0.csv',header = 0,index_col=0)\n"
   ]
  },
  {
   "cell_type": "code",
   "execution_count": null,
   "id": "2587c503",
   "metadata": {},
   "outputs": [],
   "source": [
    "stk11 = stkp.loc[:,'sh.600011']\n",
    "avg11 = np.average(stk11)"
   ]
  },
  {
   "cell_type": "code",
   "execution_count": null,
   "id": "03e1567f",
   "metadata": {},
   "outputs": [],
   "source": [
    "import numpy as np\n",
    "stk23 = stkp.loc[:,'sh.600012':'sh.600020']\n",
    "stk_sort = np.sort(stk23.iloc[:,0],axis = 0)\n",
    "stk_sort = np.sort(stk23.iloc[:,1],axis = 0)"
   ]
  },
  {
   "cell_type": "code",
   "execution_count": null,
   "metadata": {},
   "outputs": [],
   "source": [
    "p4_1 = stkp.loc[\"2020/4/1\"]\n",
    "pMAY = stkp.loc[\"2020/5/6\":\"2020/5/29\"]\n",
    "for i in stkp.index:\n",
    "    if np.asarray(stkp.loc[i,'sh.600011'])>4.5 and np.asarray(stkp.loc[i,'sh.600030']) <30 :\n",
    "        p_search = stkp.loc[i]\n",
    "\n",
    "p50_100 = stkp.iloc[49:99]"
   ]
  }
 ],
 "metadata": {
  "kernelspec": {
   "display_name": "Python 3.9.12 ('base')",
   "language": "python",
   "name": "python3"
  },
  "language_info": {
   "codemirror_mode": {
    "name": "ipython",
    "version": 3
   },
   "file_extension": ".py",
   "mimetype": "text/x-python",
   "name": "python",
   "nbconvert_exporter": "python",
   "pygments_lexer": "ipython3",
   "version": "3.9.12"
  },
  "vscode": {
   "interpreter": {
    "hash": "230b3ff13fbf17182562d98b6b92d0993293f138d9d821fa36058128ba3119c0"
   }
  }
 },
 "nbformat": 4,
 "nbformat_minor": 5
}
